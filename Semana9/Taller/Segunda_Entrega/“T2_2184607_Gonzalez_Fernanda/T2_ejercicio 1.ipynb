{
 "cells": [
  {
   "cell_type": "code",
   "execution_count": 40,
   "id": "84406299",
   "metadata": {},
   "outputs": [],
   "source": [
    "import numpy as np\n",
    "import sympy as sp\n",
    "import pandas as pd\n",
    "import matplotlib.pyplot as plt"
   ]
  },
  {
   "cell_type": "code",
   "execution_count": 41,
   "id": "4dd07883",
   "metadata": {},
   "outputs": [],
   "source": [
    "# DIMENSIONES\n",
    "\n",
    "# CÓDIGO:2184607 \n",
    "# x = 28\n",
    "\n",
    "# Y = X/3\n",
    "# Y = 9.33\n",
    "\n",
    "# longitud [m]\n",
    "# L1 = 0.05 * X\n",
    "# L1 = 1.4\n",
    "\n",
    "# L2 = L1 * 1.5\n",
    "# L2 = 2.1\n",
    "\n",
    "# L3 = 0.5 * L1\n",
    "# L3 = 0.7\n",
    "\n",
    "# Carga Distribuida [KN/m]\n",
    "# W = 0.005 * X + 0.01 * Y\n",
    "# W = 0.23\n",
    "\n",
    "# Carga [KN]\n",
    "# Fuerza = 0.05 * X\n",
    "# Fuerza = 1.4\n",
    "\n",
    "#Para la viga quedaría:\n",
    "viga = {\n",
    "    \"L1\": 1.4,\n",
    "    \"L2\": 2.1,\n",
    "    \"L3\": 0.7,\n",
    "    \"W\": 0.23,\n",
    "    \"Fuerza\": 1.4,\n",
    "}"
   ]
  },
  {
   "cell_type": "code",
   "execution_count": 42,
   "id": "52fe1879",
   "metadata": {},
   "outputs": [],
   "source": [
    "Ay, Ma, x = sp.symbols(\" Ay Ma x \")"
   ]
  },
  {
   "cell_type": "code",
   "execution_count": 43,
   "id": "b4a40407",
   "metadata": {},
   "outputs": [
    {
     "data": {
      "text/latex": [
       "$\\displaystyle -0.6755$"
      ],
      "text/plain": [
       "-0.675500000000000"
      ]
     },
     "execution_count": 43,
     "metadata": {},
     "output_type": "execute_result"
    }
   ],
   "source": [
    "# FUERZAS EXTERNAS\n",
    "\n",
    "# ECUACIONES DE EQUILIBRIO EJE Y\n",
    "Fy = Ay + viga[\"Fuerza\"] - viga[\"W\"] * viga[\"L1\"] / 2 - viga[\"W\"] * ( viga[\"L3\"]) / 2 - viga[\"W\"] * viga[\"L2\"]\n",
    "F_y = sp.Eq(Fy, 0)\n",
    "A_y =  sp.solve(F_y)[0]\n",
    "A_y"
   ]
  },
  {
   "cell_type": "code",
   "execution_count": 44,
   "id": "fda9abce",
   "metadata": {},
   "outputs": [
    {
     "data": {
      "text/latex": [
       "$\\displaystyle -4.24585$"
      ],
      "text/plain": [
       "-4.24585000000000"
      ]
     },
     "execution_count": 44,
     "metadata": {},
     "output_type": "execute_result"
    }
   ],
   "source": [
    "# FUERZAS EXTERNAS\n",
    "\n",
    "# ECUACIÓN DE EQUILIBRIO MOMENTOS\n",
    "Equilibrio_momentos =  Ma + viga[\"Fuerza\"] * (viga[\"L1\"] + viga[\"L2\"] + viga[\"L3\"]) - viga[\"W\"] * viga[\"L1\"] / 2 * (2 * viga[\"L1\"] / 3) - viga[\"W\"] * viga[\"L2\"] * (viga[\"L1\"] + viga[\"L2\"] / 2) - viga[\"W\"] * viga[\"L3\"] / 2 * (viga[\"L1\"] + viga[\"L2\"] +  viga[\"L3\"] / 3)\n",
    "Ecuacion_momentos = sp.Eq(Equilibrio_momentos, 0)\n",
    "Momento_A =  sp.solve(Ecuacion_momentos)[0]\n",
    "Momento_A"
   ]
  },
  {
   "cell_type": "code",
   "execution_count": 45,
   "id": "d856f8ed",
   "metadata": {},
   "outputs": [
    {
     "data": {
      "text/latex": [
       "$\\displaystyle - 0.0273809523809524 x^{3} - 0.6755 x + 4.24585$"
      ],
      "text/plain": [
       "-0.0273809523809524*x**3 - 0.6755*x + 4.24585"
      ]
     },
     "execution_count": 45,
     "metadata": {},
     "output_type": "execute_result"
    }
   ],
   "source": [
    "# FUERZAS INTERNAS\n",
    "\n",
    "# FUERZA CORTANTE Y MOMENTO FLECTOR TRAMO (0 <= x <= L1)\n",
    "carga_distribuida = viga[\"W\"] * x / viga[\"L1\"]\n",
    "# - integral carga * dx + V(x)\n",
    "Vx_1 = A_y - sp.integrate(carga_distribuida, x)\n",
    "\n",
    "Mx_1 = - Momento_A + sp.integrate(Vx_1, x)\n",
    "Mx_1"
   ]
  },
  {
   "cell_type": "code",
   "execution_count": 46,
   "id": "a80ab2f3",
   "metadata": {},
   "outputs": [
    {
     "data": {
      "text/latex": [
       "$\\displaystyle - 0.115 x^{2} - 0.8365 x + 3.22501666666667$"
      ],
      "text/plain": [
       "-0.115*x**2 - 0.8365*x + 3.22501666666667"
      ]
     },
     "execution_count": 46,
     "metadata": {},
     "output_type": "execute_result"
    }
   ],
   "source": [
    "# FUERZAS INTERNAS\n",
    "\n",
    "# FUERZA CORTANTE Y MOMENTO FLECTOR TRAMO (0 <= x <= L2)\n",
    "Carga_distribuida = viga[\"W\"]\n",
    "# - integral carga * dx + V(x)\n",
    "Vx_2 =  Vx_1.subs(x, viga[\"L1\"]) - sp.integrate(Carga_distribuida, x)\n",
    "\n",
    "Mx_2 = Mx_1.subs(x, viga[\"L1\"]) + sp.integrate(Vx_2, x)\n",
    "Mx_2"
   ]
  },
  {
   "cell_type": "code",
   "execution_count": 47,
   "id": "5a2ca675",
   "metadata": {},
   "outputs": [
    {
     "data": {
      "text/latex": [
       "$\\displaystyle 0.0547619047619048 x^{3} - 0.115 x^{2} + 0.0804999999999998 x + 0.961216666666666$"
      ],
      "text/plain": [
       "0.0547619047619048*x**3 - 0.115*x**2 + 0.0804999999999998*x + 0.961216666666666"
      ]
     },
     "execution_count": 47,
     "metadata": {},
     "output_type": "execute_result"
    }
   ],
   "source": [
    "# FUERZAS INTERNAS\n",
    "\n",
    "# FUERZA CORTANTE Y MOMENTO FLECTOR TRAMO (0 <= x <= L3)\n",
    "\n",
    "Carga_distribuida = - viga[\"W\"] * x / viga[\"L3\"] +  viga[\"W\"]\n",
    "# - integral carga * dx + V(x)\n",
    "Vx_3 = viga[\"Fuerza\"] + Vx_2.subs(x, viga[\"L2\"]) - sp.integrate(Carga_distribuida, x)\n",
    "\n",
    "Mx_3 = Mx_2.subs(x, viga[\"L2\"]) + sp.integrate(Vx_3, x)\n",
    "Mx_3"
   ]
  },
  {
   "cell_type": "code",
   "execution_count": 48,
   "id": "6f4d918f",
   "metadata": {},
   "outputs": [],
   "source": [
    "import numpy as np"
   ]
  },
  {
   "cell_type": "code",
   "execution_count": 49,
   "id": "36c108d6",
   "metadata": {},
   "outputs": [
    {
     "data": {
      "image/png": "[encoded data removed]",
      "text/plain": [
       "<Figure size 432x288 with 1 Axes>"
      ]
     },
     "metadata": {
      "needs_background": "light"
     },
     "output_type": "display_data"
    },
    {
     "data": {
      "text/plain": [
       "<sympy.plotting.plot.Plot at 0x276dd1afbb0>"
      ]
     },
     "execution_count": 49,
     "metadata": {},
     "output_type": "execute_result"
    }
   ],
   "source": [
    "# DIAGRAMA DE FUERZA CORTANTE\n",
    "\n",
    "x_array = np.arange(0, viga[\"L1\"] + viga[\"L2\"] + viga[\"L3\"] + 0.01, 0.01)\n",
    "# obtener arrays reemplazando la funcion de cada tramo\n",
    "tramo1 = sp.lambdify(x, Vx_1)(x_array[x_array <= viga[\"L1\"]])\n",
    "tramo2 = sp.lambdify(x, Vx_2)(x_array[(x_array > viga[\"L1\"]) & (x_array <= (viga[\"L1\"] + viga[\"L2\"]))] - viga[\"L1\"])\n",
    "tramo3 = sp.lambdify(x, Vx_3)(x_array[x_array > (viga[\"L1\"] + viga[\"L2\"])] - viga[\"L1\"] - viga[\"L2\"])\n",
    "\n",
    "Cortante_y = np.concatenate((tramo1, tramo2, tramo3))\n",
    "sp.plot((Vx_1, (x, 0, viga[\"L1\"])), (Vx_2.subs(x, x - viga[\"L1\"]), (x, viga[\"L1\"], viga[\"L1\"] + viga[\"L2\"])), (Vx_3.subs(x, x - (viga[\"L1\"] + viga[\"L2\"])), (x, (viga[\"L1\"] + viga[\"L2\"]), viga[\"L1\"] + viga[\"L2\"])))"
   ]
  },
  {
   "cell_type": "code",
   "execution_count": 50,
   "id": "5835d84f",
   "metadata": {},
   "outputs": [
    {
     "data": {
      "image/png": "[encoded data removed]",
      "text/plain": [
       "<Figure size 432x288 with 1 Axes>"
      ]
     },
     "metadata": {
      "needs_background": "light"
     },
     "output_type": "display_data"
    },
    {
     "data": {
      "text/plain": [
       "<sympy.plotting.plot.Plot at 0x276dd0cd3c0>"
      ]
     },
     "execution_count": 50,
     "metadata": {},
     "output_type": "execute_result"
    }
   ],
   "source": [
    "# DIAGRAMA DE MOMENTO FLECTOR\n",
    "\n",
    "x_array = np.arange(0, viga[\"L1\"] + viga[\"L2\"] + viga[\"L3\"] + 0.01, 0.01)\n",
    "# obtener arrays reemplazando la funcion de cada tramo\n",
    "Tramo1 = sp.lambdify(x, Mx_1)(x_array[x_array <= viga[\"L1\"]])\n",
    "Tramo2 = sp.lambdify(x, Mx_2)(x_array[(x_array > viga[\"L1\"]) & (x_array <= (viga[\"L1\"] + viga[\"L2\"]))] - viga[\"L1\"])\n",
    "Tramo3 = sp.lambdify(x, Mx_3)(x_array[x_array > (viga[\"L1\"] + viga[\"L2\"])] - viga[\"L1\"] - viga[\"L2\"])\n",
    "\n",
    "Momento_y = np.concatenate((Tramo1, Tramo2, Tramo3))\n",
    "sp.plot((Mx_1, (x, 0, viga[\"L1\"])), (Mx_2.subs(x, x - viga[\"L1\"]), (x, viga[\"L1\"], viga[\"L1\"] + viga[\"L2\"])), (Mx_3.subs(x, x - (viga[\"L1\"] + viga[\"L2\"])), (x, (viga[\"L1\"] + viga[\"L2\"]), viga[\"L1\"] + viga[\"L2\"])))"
   ]
  },
  {
   "cell_type": "code",
   "execution_count": 51,
   "id": "2ed8b61a",
   "metadata": {},
   "outputs": [
    {
     "data": {
      "text/plain": [
       "4.24585"
      ]
     },
     "execution_count": 51,
     "metadata": {},
     "output_type": "execute_result"
    }
   ],
   "source": [
    "# MOMENTO MÁXIMO\n",
    "\n",
    "Momento_maximo = 0\n",
    "Momento_positivo_max = np.amax(Momento_y)\n",
    "Momento_negativo_max = np.amin(Momento_y)\n",
    "\n",
    "if np.abs(Momento_negativo_max) > Momento_positivo_max:\n",
    "    Momento_maximo = np.abs(Momento_negativo_max)\n",
    "else: \n",
    "    Momento_maximo = Momento_positivo_max\n",
    "Momento_maximo"
   ]
  },
  {
   "cell_type": "code",
   "execution_count": 52,
   "id": "ac594987",
   "metadata": {},
   "outputs": [
    {
     "data": {
      "text/plain": [
       "0"
      ]
     },
     "execution_count": 52,
     "metadata": {},
     "output_type": "execute_result"
    }
   ],
   "source": [
    "# CORTANTE MÁXIMO\n",
    "\n",
    "Cortante_maximo = 0\n",
    "Cortante_positivo_max = np.amax(Cortante_y)\n",
    "Cortante_negativo_max = np.amin(Cortante_y)\n",
    "\n",
    "if np.abs(Cortante_negativo_max) > Cortante_positivo_max:\n",
    "    cortante_maximo = np.abs(Cortante_negativo_max)\n",
    "else: \n",
    "   Cortante_maximo =Cortante_positivo_max\n",
    "\n",
    "Cortante_maximo"
   ]
  }
 ],
 "metadata": {
  "kernelspec": {
   "display_name": "Python 3 (ipykernel)",
   "language": "python",
   "name": "python3"
  },
  "language_info": {
   "codemirror_mode": {
    "name": "ipython",
    "version": 3
   },
   "file_extension": ".py",
   "mimetype": "text/x-python",
   "name": "python",
   "nbconvert_exporter": "python",
   "pygments_lexer": "ipython3",
   "version": "3.10.1"
  }
 },
 "nbformat": 4,
 "nbformat_minor": 5
}
