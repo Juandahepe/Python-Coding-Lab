{
 "cells": [
  {
   "cell_type": "code",
   "execution_count": 1,
   "id": "f4468e06",
   "metadata": {},
   "outputs": [],
   "source": [
    "import numpy as np\n",
    "import sympy as sp\n",
    "import pandas as pd\n",
    "import matplotlib.pyplot as plt"
   ]
  },
  {
   "cell_type": "code",
   "execution_count": 2,
   "id": "53ae8bb7",
   "metadata": {},
   "outputs": [],
   "source": [
    "# Se retoma el momento maximo calculado en el punto 1.\n",
    "\n",
    "Mmax = 1.16074707322184"
   ]
  },
  {
   "cell_type": "code",
   "execution_count": 3,
   "id": "37346c99",
   "metadata": {},
   "outputs": [
    {
     "data": {
      "text/html": [
       "<div>\n",
       "<style scoped>\n",
       "    .dataframe tbody tr th:only-of-type {\n",
       "        vertical-align: middle;\n",
       "    }\n",
       "\n",
       "    .dataframe tbody tr th {\n",
       "        vertical-align: top;\n",
       "    }\n",
       "\n",
       "    .dataframe thead th {\n",
       "        text-align: right;\n",
       "    }\n",
       "</style>\n",
       "<table border=\"1\" class=\"dataframe\">\n",
       "  <thead>\n",
       "    <tr style=\"text-align: right;\">\n",
       "      <th></th>\n",
       "      <th>h [mm]</th>\n",
       "      <th>b [mm]</th>\n",
       "      <th>t [mm]</th>\n",
       "    </tr>\n",
       "    <tr>\n",
       "      <th>perfil</th>\n",
       "      <th></th>\n",
       "      <th></th>\n",
       "      <th></th>\n",
       "    </tr>\n",
       "  </thead>\n",
       "  <tbody>\n",
       "    <tr>\n",
       "      <th>1</th>\n",
       "      <td>25</td>\n",
       "      <td>50</td>\n",
       "      <td>5.0</td>\n",
       "    </tr>\n",
       "    <tr>\n",
       "      <th>2</th>\n",
       "      <td>30</td>\n",
       "      <td>60</td>\n",
       "      <td>5.5</td>\n",
       "    </tr>\n",
       "    <tr>\n",
       "      <th>3</th>\n",
       "      <td>35</td>\n",
       "      <td>70</td>\n",
       "      <td>6.0</td>\n",
       "    </tr>\n",
       "    <tr>\n",
       "      <th>4</th>\n",
       "      <td>40</td>\n",
       "      <td>80</td>\n",
       "      <td>7.0</td>\n",
       "    </tr>\n",
       "    <tr>\n",
       "      <th>5</th>\n",
       "      <td>50</td>\n",
       "      <td>100</td>\n",
       "      <td>8.5</td>\n",
       "    </tr>\n",
       "    <tr>\n",
       "      <th>6</th>\n",
       "      <td>55</td>\n",
       "      <td>115</td>\n",
       "      <td>9.0</td>\n",
       "    </tr>\n",
       "    <tr>\n",
       "      <th>7</th>\n",
       "      <td>60</td>\n",
       "      <td>120</td>\n",
       "      <td>10.0</td>\n",
       "    </tr>\n",
       "    <tr>\n",
       "      <th>8</th>\n",
       "      <td>70</td>\n",
       "      <td>140</td>\n",
       "      <td>11.5</td>\n",
       "    </tr>\n",
       "    <tr>\n",
       "      <th>9</th>\n",
       "      <td>80</td>\n",
       "      <td>160</td>\n",
       "      <td>13.0</td>\n",
       "    </tr>\n",
       "    <tr>\n",
       "      <th>10</th>\n",
       "      <td>90</td>\n",
       "      <td>180</td>\n",
       "      <td>15.0</td>\n",
       "    </tr>\n",
       "  </tbody>\n",
       "</table>\n",
       "</div>"
      ],
      "text/plain": [
       "        h [mm]  b [mm]  t [mm]\n",
       "perfil                        \n",
       "1           25      50     5.0\n",
       "2           30      60     5.5\n",
       "3           35      70     6.0\n",
       "4           40      80     7.0\n",
       "5           50     100     8.5\n",
       "6           55     115     9.0\n",
       "7           60     120    10.0\n",
       "8           70     140    11.5\n",
       "9           80     160    13.0\n",
       "10          90     180    15.0"
      ]
     },
     "execution_count": 3,
     "metadata": {},
     "output_type": "execute_result"
    }
   ],
   "source": [
    "perfiles = pd.read_excel('T2.xlsx', usecols=\"B:E\", nrows=10, skiprows=3, index_col='perfil')\n",
    "perfiles"
   ]
  },
  {
   "cell_type": "code",
   "execution_count": 4,
   "id": "1f6fc8ca",
   "metadata": {},
   "outputs": [
    {
     "data": {
      "text/plain": [
       "(25, 50, 5.0)"
      ]
     },
     "execution_count": 4,
     "metadata": {},
     "output_type": "execute_result"
    }
   ],
   "source": [
    "# Datos del primer perfil.\n",
    "\n",
    "h = perfiles.loc[1, 'h [mm]']\n",
    "b = perfiles.loc[1, 'b [mm]']\n",
    "t = perfiles.loc[1, 't [mm]']\n",
    "h, b, t"
   ]
  },
  {
   "cell_type": "code",
   "execution_count": 5,
   "id": "58778412",
   "metadata": {},
   "outputs": [
    {
     "data": {
      "text/plain": [
       "350.0"
      ]
     },
     "execution_count": 5,
     "metadata": {},
     "output_type": "execute_result"
    }
   ],
   "source": [
    "# Area del primer perfil.\n",
    "\n",
    "Area = (t * b) + (t * (h-t))\n",
    "Area"
   ]
  },
  {
   "cell_type": "code",
   "execution_count": 6,
   "id": "3b04d0fd",
   "metadata": {},
   "outputs": [
    {
     "data": {
      "text/plain": [
       "20.535714285714285"
      ]
     },
     "execution_count": 6,
     "metadata": {},
     "output_type": "execute_result"
    }
   ],
   "source": [
    "# Coordenada Centroida Y\n",
    "\n",
    "Centroide_Y = (((h - (t / 2)) * (b * t)) + ((h / 2) * (t * h)))/ Area\n",
    "Centroide_Y"
   ]
  },
  {
   "cell_type": "code",
   "execution_count": 7,
   "id": "4b9bb7a0",
   "metadata": {},
   "outputs": [
    {
     "data": {
      "text/plain": [
       "15918.898809523811"
      ]
     },
     "execution_count": 7,
     "metadata": {},
     "output_type": "execute_result"
    }
   ],
   "source": [
    "# Inercia en mm4\n",
    "Iz = ((b * ((t) ** 3)) / 12) + ((t * ((h - t) ** 3)) / 12) + (((h - t) * t) * (((h - t) / 2) - Centroide_Y) ** 2) + ((b * t) * (((h - (t / 2)) - Centroide_Y) ** 2))\n",
    "Iz"
   ]
  },
  {
   "cell_type": "code",
   "execution_count": 8,
   "id": "79ad539a",
   "metadata": {},
   "outputs": [],
   "source": [
    "# distancia a la fibra superior.\n",
    "\n",
    "y2 = h - Centroide_Y\n",
    "y1 = Centroide_Y"
   ]
  },
  {
   "cell_type": "code",
   "execution_count": 9,
   "id": "73b80b63",
   "metadata": {},
   "outputs": [
    {
     "data": {
      "text/plain": [
       "-1497.3881383932123"
      ]
     },
     "execution_count": 9,
     "metadata": {},
     "output_type": "execute_result"
    }
   ],
   "source": [
    "# Calculo de esfuerzo en la fibra inferior [Mpa]\n",
    "\n",
    "esfuerzo_inferior = (Mmax * 10 ** 6 * ( - Centroide_Y)) / Iz\n",
    "esfuerzo_inferior"
   ]
  },
  {
   "cell_type": "code",
   "execution_count": 10,
   "id": "3696231b",
   "metadata": {},
   "outputs": [
    {
     "data": {
      "text/plain": [
       "325.51916052026365"
      ]
     },
     "execution_count": 10,
     "metadata": {},
     "output_type": "execute_result"
    }
   ],
   "source": [
    "# Calculo de esfuerzo en la fibra superior [Mpa]\n",
    "\n",
    "esfuerzo_superior = (Mmax * 10 ** 6 * (y2)) / Iz\n",
    "esfuerzo_superior"
   ]
  },
  {
   "cell_type": "code",
   "execution_count": 11,
   "id": "9c7d81fb",
   "metadata": {},
   "outputs": [
    {
     "data": {
      "text/html": [
       "<div>\n",
       "<style scoped>\n",
       "    .dataframe tbody tr th:only-of-type {\n",
       "        vertical-align: middle;\n",
       "    }\n",
       "\n",
       "    .dataframe tbody tr th {\n",
       "        vertical-align: top;\n",
       "    }\n",
       "\n",
       "    .dataframe thead th {\n",
       "        text-align: right;\n",
       "    }\n",
       "</style>\n",
       "<table border=\"1\" class=\"dataframe\">\n",
       "  <thead>\n",
       "    <tr style=\"text-align: right;\">\n",
       "      <th></th>\n",
       "      <th>h [mm]</th>\n",
       "      <th>b [mm]</th>\n",
       "      <th>t [mm]</th>\n",
       "      <th>Area [mm ^ 2]</th>\n",
       "    </tr>\n",
       "    <tr>\n",
       "      <th>perfil</th>\n",
       "      <th></th>\n",
       "      <th></th>\n",
       "      <th></th>\n",
       "      <th></th>\n",
       "    </tr>\n",
       "  </thead>\n",
       "  <tbody>\n",
       "    <tr>\n",
       "      <th>1</th>\n",
       "      <td>25</td>\n",
       "      <td>50</td>\n",
       "      <td>5.0</td>\n",
       "      <td>350.00</td>\n",
       "    </tr>\n",
       "    <tr>\n",
       "      <th>2</th>\n",
       "      <td>30</td>\n",
       "      <td>60</td>\n",
       "      <td>5.5</td>\n",
       "      <td>464.75</td>\n",
       "    </tr>\n",
       "    <tr>\n",
       "      <th>3</th>\n",
       "      <td>35</td>\n",
       "      <td>70</td>\n",
       "      <td>6.0</td>\n",
       "      <td>594.00</td>\n",
       "    </tr>\n",
       "    <tr>\n",
       "      <th>4</th>\n",
       "      <td>40</td>\n",
       "      <td>80</td>\n",
       "      <td>7.0</td>\n",
       "      <td>791.00</td>\n",
       "    </tr>\n",
       "    <tr>\n",
       "      <th>5</th>\n",
       "      <td>50</td>\n",
       "      <td>100</td>\n",
       "      <td>8.5</td>\n",
       "      <td>1202.75</td>\n",
       "    </tr>\n",
       "    <tr>\n",
       "      <th>6</th>\n",
       "      <td>55</td>\n",
       "      <td>115</td>\n",
       "      <td>9.0</td>\n",
       "      <td>1449.00</td>\n",
       "    </tr>\n",
       "    <tr>\n",
       "      <th>7</th>\n",
       "      <td>60</td>\n",
       "      <td>120</td>\n",
       "      <td>10.0</td>\n",
       "      <td>1700.00</td>\n",
       "    </tr>\n",
       "    <tr>\n",
       "      <th>8</th>\n",
       "      <td>70</td>\n",
       "      <td>140</td>\n",
       "      <td>11.5</td>\n",
       "      <td>2282.75</td>\n",
       "    </tr>\n",
       "    <tr>\n",
       "      <th>9</th>\n",
       "      <td>80</td>\n",
       "      <td>160</td>\n",
       "      <td>13.0</td>\n",
       "      <td>2951.00</td>\n",
       "    </tr>\n",
       "    <tr>\n",
       "      <th>10</th>\n",
       "      <td>90</td>\n",
       "      <td>180</td>\n",
       "      <td>15.0</td>\n",
       "      <td>3825.00</td>\n",
       "    </tr>\n",
       "  </tbody>\n",
       "</table>\n",
       "</div>"
      ],
      "text/plain": [
       "        h [mm]  b [mm]  t [mm]  Area [mm ^ 2]\n",
       "perfil                                       \n",
       "1           25      50     5.0         350.00\n",
       "2           30      60     5.5         464.75\n",
       "3           35      70     6.0         594.00\n",
       "4           40      80     7.0         791.00\n",
       "5           50     100     8.5        1202.75\n",
       "6           55     115     9.0        1449.00\n",
       "7           60     120    10.0        1700.00\n",
       "8           70     140    11.5        2282.75\n",
       "9           80     160    13.0        2951.00\n",
       "10          90     180    15.0        3825.00"
      ]
     },
     "execution_count": 11,
     "metadata": {},
     "output_type": "execute_result"
    }
   ],
   "source": [
    "# Areas\n",
    "Resultado = perfiles\n",
    "Resultado['Area [mm ^ 2]'] = (perfiles['b [mm]'] * perfiles['t [mm]']) + ((perfiles['h [mm]'] - perfiles['t [mm]']) * perfiles['t [mm]'])\n",
    "Resultado"
   ]
  },
  {
   "cell_type": "code",
   "execution_count": 12,
   "id": "7096e6e8",
   "metadata": {},
   "outputs": [],
   "source": [
    "# Centroides\n",
    "Resultado['Yc [mm]'] = ((((perfiles['h [mm]'] - perfiles['t [mm]']) / 2) * ((perfiles['h [mm]'] - perfiles['t [mm]']) * perfiles['t [mm]'])) + (((perfiles['h [mm]'] - perfiles['t [mm]']) + (perfiles['t [mm]'] / 2)) * (perfiles['b [mm]'] * perfiles['t [mm]']))) / perfiles['Area [mm ^ 2]']\n"
   ]
  },
  {
   "cell_type": "code",
   "execution_count": 13,
   "id": "c4718f66",
   "metadata": {},
   "outputs": [],
   "source": [
    "# Inercias\n",
    "\n",
    "Resultado['Iz [mm ^ 4]'] = ((perfiles['b [mm]'] * ((perfiles['t [mm]']) ** 3)) / 12) + ((perfiles['t [mm]'] * ((perfiles['h [mm]'] - perfiles['t [mm]']) ** 3)) / 12) + (((perfiles['h [mm]'] - perfiles['t [mm]']) * perfiles['t [mm]']) * (((perfiles['h [mm]'] - perfiles['t [mm]']) / 2) - perfiles['Yc [mm]']) ** 2) + ((perfiles['b [mm]'] * perfiles['t [mm]']) * (((perfiles['h [mm]'] - perfiles['t [mm]']) + (perfiles['t [mm]'] / 2)) - perfiles['Yc [mm]']) ** 2)\n"
   ]
  },
  {
   "cell_type": "code",
   "execution_count": 14,
   "id": "e5d33352",
   "metadata": {},
   "outputs": [],
   "source": [
    "Resultado['esfuerzo_superior [MPa]'] = Mmax * 10 ** 6 * (perfiles['h [mm]'] - perfiles['Yc [mm]']) / perfiles['Iz [mm ^ 4]']"
   ]
  },
  {
   "cell_type": "code",
   "execution_count": 15,
   "id": "755eb0f8",
   "metadata": {},
   "outputs": [],
   "source": [
    "Resultado['esfuerzo_inferior [MPa]'] = - Mmax * 10 ** 6 * perfiles['Yc [mm]'] / perfiles['Iz [mm ^ 4]']"
   ]
  },
  {
   "cell_type": "markdown",
   "id": "2c91cea3",
   "metadata": {},
   "source": [
    "# Respuesta del Inciso 1."
   ]
  },
  {
   "cell_type": "code",
   "execution_count": 39,
   "id": "0eeee746",
   "metadata": {
    "scrolled": true
   },
   "outputs": [
    {
     "data": {
      "text/html": [
       "<div>\n",
       "<style scoped>\n",
       "    .dataframe tbody tr th:only-of-type {\n",
       "        vertical-align: middle;\n",
       "    }\n",
       "\n",
       "    .dataframe tbody tr th {\n",
       "        vertical-align: top;\n",
       "    }\n",
       "\n",
       "    .dataframe thead th {\n",
       "        text-align: right;\n",
       "    }\n",
       "</style>\n",
       "<table border=\"1\" class=\"dataframe\">\n",
       "  <thead>\n",
       "    <tr style=\"text-align: right;\">\n",
       "      <th></th>\n",
       "      <th>h [mm]</th>\n",
       "      <th>b [mm]</th>\n",
       "      <th>t [mm]</th>\n",
       "      <th>Area [mm ^ 2]</th>\n",
       "      <th>Yc [mm]</th>\n",
       "      <th>Iz [mm ^ 4]</th>\n",
       "      <th>esfuerzo_superior [MPa]</th>\n",
       "      <th>esfuerzo_inferior [MPa]</th>\n",
       "    </tr>\n",
       "    <tr>\n",
       "      <th>perfil</th>\n",
       "      <th></th>\n",
       "      <th></th>\n",
       "      <th></th>\n",
       "      <th></th>\n",
       "      <th></th>\n",
       "      <th></th>\n",
       "      <th></th>\n",
       "      <th></th>\n",
       "    </tr>\n",
       "  </thead>\n",
       "  <tbody>\n",
       "    <tr>\n",
       "      <th>1</th>\n",
       "      <td>25</td>\n",
       "      <td>50</td>\n",
       "      <td>5.0</td>\n",
       "      <td>350.00</td>\n",
       "      <td>18.928571</td>\n",
       "      <td>1.501488e+04</td>\n",
       "      <td>469.360561</td>\n",
       "      <td>-1463.300572</td>\n",
       "    </tr>\n",
       "    <tr>\n",
       "      <th>2</th>\n",
       "      <td>30</td>\n",
       "      <td>60</td>\n",
       "      <td>5.5</td>\n",
       "      <td>464.75</td>\n",
       "      <td>22.900888</td>\n",
       "      <td>2.910029e+04</td>\n",
       "      <td>283.168117</td>\n",
       "      <td>-913.466475</td>\n",
       "    </tr>\n",
       "    <tr>\n",
       "      <th>3</th>\n",
       "      <td>35</td>\n",
       "      <td>70</td>\n",
       "      <td>6.0</td>\n",
       "      <td>594.00</td>\n",
       "      <td>26.873737</td>\n",
       "      <td>5.113253e+04</td>\n",
       "      <td>184.472302</td>\n",
       "      <td>-610.054144</td>\n",
       "    </tr>\n",
       "    <tr>\n",
       "      <th>4</th>\n",
       "      <td>40</td>\n",
       "      <td>80</td>\n",
       "      <td>7.0</td>\n",
       "      <td>791.00</td>\n",
       "      <td>30.659292</td>\n",
       "      <td>8.866585e+04</td>\n",
       "      <td>122.281577</td>\n",
       "      <td>-401.368567</td>\n",
       "    </tr>\n",
       "    <tr>\n",
       "      <th>5</th>\n",
       "      <td>50</td>\n",
       "      <td>100</td>\n",
       "      <td>8.5</td>\n",
       "      <td>1202.75</td>\n",
       "      <td>38.417845</td>\n",
       "      <td>2.115530e+05</td>\n",
       "      <td>63.548869</td>\n",
       "      <td>-210.790693</td>\n",
       "    </tr>\n",
       "    <tr>\n",
       "      <th>6</th>\n",
       "      <td>55</td>\n",
       "      <td>115</td>\n",
       "      <td>9.0</td>\n",
       "      <td>1449.00</td>\n",
       "      <td>42.642857</td>\n",
       "      <td>3.036222e+05</td>\n",
       "      <td>47.241336</td>\n",
       "      <td>-163.023570</td>\n",
       "    </tr>\n",
       "    <tr>\n",
       "      <th>7</th>\n",
       "      <td>60</td>\n",
       "      <td>120</td>\n",
       "      <td>10.0</td>\n",
       "      <td>1700.00</td>\n",
       "      <td>46.176471</td>\n",
       "      <td>4.318137e+05</td>\n",
       "      <td>37.158664</td>\n",
       "      <td>-124.125751</td>\n",
       "    </tr>\n",
       "    <tr>\n",
       "      <th>8</th>\n",
       "      <td>70</td>\n",
       "      <td>140</td>\n",
       "      <td>11.5</td>\n",
       "      <td>2282.75</td>\n",
       "      <td>53.935139</td>\n",
       "      <td>7.908459e+05</td>\n",
       "      <td>23.578856</td>\n",
       "      <td>-79.162143</td>\n",
       "    </tr>\n",
       "    <tr>\n",
       "      <th>9</th>\n",
       "      <td>80</td>\n",
       "      <td>160</td>\n",
       "      <td>13.0</td>\n",
       "      <td>2951.00</td>\n",
       "      <td>61.693833</td>\n",
       "      <td>1.337393e+06</td>\n",
       "      <td>15.888246</td>\n",
       "      <td>-53.545168</td>\n",
       "    </tr>\n",
       "    <tr>\n",
       "      <th>10</th>\n",
       "      <td>90</td>\n",
       "      <td>180</td>\n",
       "      <td>15.0</td>\n",
       "      <td>3825.00</td>\n",
       "      <td>69.264706</td>\n",
       "      <td>2.186057e+06</td>\n",
       "      <td>11.009975</td>\n",
       "      <td>-36.778000</td>\n",
       "    </tr>\n",
       "  </tbody>\n",
       "</table>\n",
       "</div>"
      ],
      "text/plain": [
       "        h [mm]  b [mm]  t [mm]  Area [mm ^ 2]    Yc [mm]   Iz [mm ^ 4]  \\\n",
       "perfil                                                                   \n",
       "1           25      50     5.0         350.00  18.928571  1.501488e+04   \n",
       "2           30      60     5.5         464.75  22.900888  2.910029e+04   \n",
       "3           35      70     6.0         594.00  26.873737  5.113253e+04   \n",
       "4           40      80     7.0         791.00  30.659292  8.866585e+04   \n",
       "5           50     100     8.5        1202.75  38.417845  2.115530e+05   \n",
       "6           55     115     9.0        1449.00  42.642857  3.036222e+05   \n",
       "7           60     120    10.0        1700.00  46.176471  4.318137e+05   \n",
       "8           70     140    11.5        2282.75  53.935139  7.908459e+05   \n",
       "9           80     160    13.0        2951.00  61.693833  1.337393e+06   \n",
       "10          90     180    15.0        3825.00  69.264706  2.186057e+06   \n",
       "\n",
       "        esfuerzo_superior [MPa]  esfuerzo_inferior [MPa]  \n",
       "perfil                                                    \n",
       "1                    469.360561             -1463.300572  \n",
       "2                    283.168117              -913.466475  \n",
       "3                    184.472302              -610.054144  \n",
       "4                    122.281577              -401.368567  \n",
       "5                     63.548869              -210.790693  \n",
       "6                     47.241336              -163.023570  \n",
       "7                     37.158664              -124.125751  \n",
       "8                     23.578856               -79.162143  \n",
       "9                     15.888246               -53.545168  \n",
       "10                    11.009975               -36.778000  "
      ]
     },
     "execution_count": 39,
     "metadata": {},
     "output_type": "execute_result"
    }
   ],
   "source": [
    "Tabla_1 = Resultado\n",
    "Resultado"
   ]
  },
  {
   "cell_type": "code",
   "execution_count": 40,
   "id": "35cc8753",
   "metadata": {},
   "outputs": [],
   "source": [
    "from openpyxl import load_workbook\n",
    "\n",
    "with pd.ExcelWriter('T2.xlsx', mode='a', if_sheet_exists='overlay', engine='openpyxl') as writer:  \n",
    "    book = load_workbook('T2.xlsx')\n",
    "    writer.book = book\n",
    "    writer.sheets = dict((ws.title, ws) for ws in book.worksheets)\n",
    "    Tabla_1.to_excel(writer, startrow=3, startcol=7, sheet_name='Perfiles', index=None)"
   ]
  },
  {
   "cell_type": "markdown",
   "id": "7e9e67e5",
   "metadata": {},
   "source": [
    "# Solucion Inciso 2."
   ]
  },
  {
   "cell_type": "code",
   "execution_count": 17,
   "id": "7b896aaf",
   "metadata": {
    "scrolled": true
   },
   "outputs": [
    {
     "data": {
      "text/html": [
       "<div>\n",
       "<style scoped>\n",
       "    .dataframe tbody tr th:only-of-type {\n",
       "        vertical-align: middle;\n",
       "    }\n",
       "\n",
       "    .dataframe tbody tr th {\n",
       "        vertical-align: top;\n",
       "    }\n",
       "\n",
       "    .dataframe thead th {\n",
       "        text-align: right;\n",
       "    }\n",
       "</style>\n",
       "<table border=\"1\" class=\"dataframe\">\n",
       "  <thead>\n",
       "    <tr style=\"text-align: right;\">\n",
       "      <th></th>\n",
       "      <th>h [mm]</th>\n",
       "      <th>b [mm]</th>\n",
       "      <th>t [mm]</th>\n",
       "      <th>Area [mm ^ 2]</th>\n",
       "      <th>Yc [mm]</th>\n",
       "      <th>Iz [mm ^ 4]</th>\n",
       "      <th>esfuerzo_superior [MPa]</th>\n",
       "      <th>esfuerzo_inferior [MPa]</th>\n",
       "    </tr>\n",
       "    <tr>\n",
       "      <th>perfil</th>\n",
       "      <th></th>\n",
       "      <th></th>\n",
       "      <th></th>\n",
       "      <th></th>\n",
       "      <th></th>\n",
       "      <th></th>\n",
       "      <th></th>\n",
       "      <th></th>\n",
       "    </tr>\n",
       "  </thead>\n",
       "  <tbody>\n",
       "    <tr>\n",
       "      <th>3</th>\n",
       "      <td>35</td>\n",
       "      <td>70</td>\n",
       "      <td>6.0</td>\n",
       "      <td>594.00</td>\n",
       "      <td>26.873737</td>\n",
       "      <td>5.113253e+04</td>\n",
       "      <td>184.472302</td>\n",
       "      <td>-610.054144</td>\n",
       "    </tr>\n",
       "    <tr>\n",
       "      <th>4</th>\n",
       "      <td>40</td>\n",
       "      <td>80</td>\n",
       "      <td>7.0</td>\n",
       "      <td>791.00</td>\n",
       "      <td>30.659292</td>\n",
       "      <td>8.866585e+04</td>\n",
       "      <td>122.281577</td>\n",
       "      <td>-401.368567</td>\n",
       "    </tr>\n",
       "    <tr>\n",
       "      <th>5</th>\n",
       "      <td>50</td>\n",
       "      <td>100</td>\n",
       "      <td>8.5</td>\n",
       "      <td>1202.75</td>\n",
       "      <td>38.417845</td>\n",
       "      <td>2.115530e+05</td>\n",
       "      <td>63.548869</td>\n",
       "      <td>-210.790693</td>\n",
       "    </tr>\n",
       "    <tr>\n",
       "      <th>6</th>\n",
       "      <td>55</td>\n",
       "      <td>115</td>\n",
       "      <td>9.0</td>\n",
       "      <td>1449.00</td>\n",
       "      <td>42.642857</td>\n",
       "      <td>3.036222e+05</td>\n",
       "      <td>47.241336</td>\n",
       "      <td>-163.023570</td>\n",
       "    </tr>\n",
       "    <tr>\n",
       "      <th>7</th>\n",
       "      <td>60</td>\n",
       "      <td>120</td>\n",
       "      <td>10.0</td>\n",
       "      <td>1700.00</td>\n",
       "      <td>46.176471</td>\n",
       "      <td>4.318137e+05</td>\n",
       "      <td>37.158664</td>\n",
       "      <td>-124.125751</td>\n",
       "    </tr>\n",
       "    <tr>\n",
       "      <th>8</th>\n",
       "      <td>70</td>\n",
       "      <td>140</td>\n",
       "      <td>11.5</td>\n",
       "      <td>2282.75</td>\n",
       "      <td>53.935139</td>\n",
       "      <td>7.908459e+05</td>\n",
       "      <td>23.578856</td>\n",
       "      <td>-79.162143</td>\n",
       "    </tr>\n",
       "    <tr>\n",
       "      <th>9</th>\n",
       "      <td>80</td>\n",
       "      <td>160</td>\n",
       "      <td>13.0</td>\n",
       "      <td>2951.00</td>\n",
       "      <td>61.693833</td>\n",
       "      <td>1.337393e+06</td>\n",
       "      <td>15.888246</td>\n",
       "      <td>-53.545168</td>\n",
       "    </tr>\n",
       "    <tr>\n",
       "      <th>10</th>\n",
       "      <td>90</td>\n",
       "      <td>180</td>\n",
       "      <td>15.0</td>\n",
       "      <td>3825.00</td>\n",
       "      <td>69.264706</td>\n",
       "      <td>2.186057e+06</td>\n",
       "      <td>11.009975</td>\n",
       "      <td>-36.778000</td>\n",
       "    </tr>\n",
       "  </tbody>\n",
       "</table>\n",
       "</div>"
      ],
      "text/plain": [
       "        h [mm]  b [mm]  t [mm]  Area [mm ^ 2]    Yc [mm]   Iz [mm ^ 4]  \\\n",
       "perfil                                                                   \n",
       "3           35      70     6.0         594.00  26.873737  5.113253e+04   \n",
       "4           40      80     7.0         791.00  30.659292  8.866585e+04   \n",
       "5           50     100     8.5        1202.75  38.417845  2.115530e+05   \n",
       "6           55     115     9.0        1449.00  42.642857  3.036222e+05   \n",
       "7           60     120    10.0        1700.00  46.176471  4.318137e+05   \n",
       "8           70     140    11.5        2282.75  53.935139  7.908459e+05   \n",
       "9           80     160    13.0        2951.00  61.693833  1.337393e+06   \n",
       "10          90     180    15.0        3825.00  69.264706  2.186057e+06   \n",
       "\n",
       "        esfuerzo_superior [MPa]  esfuerzo_inferior [MPa]  \n",
       "perfil                                                    \n",
       "3                    184.472302              -610.054144  \n",
       "4                    122.281577              -401.368567  \n",
       "5                     63.548869              -210.790693  \n",
       "6                     47.241336              -163.023570  \n",
       "7                     37.158664              -124.125751  \n",
       "8                     23.578856               -79.162143  \n",
       "9                     15.888246               -53.545168  \n",
       "10                    11.009975               -36.778000  "
      ]
     },
     "execution_count": 17,
     "metadata": {},
     "output_type": "execute_result"
    }
   ],
   "source": [
    "filtro = Resultado['esfuerzo_superior [MPa]'] <= 250\n",
    "Resultado[filtro]"
   ]
  },
  {
   "cell_type": "code",
   "execution_count": 18,
   "id": "9778916d",
   "metadata": {
    "scrolled": true
   },
   "outputs": [
    {
     "data": {
      "text/html": [
       "<div>\n",
       "<style scoped>\n",
       "    .dataframe tbody tr th:only-of-type {\n",
       "        vertical-align: middle;\n",
       "    }\n",
       "\n",
       "    .dataframe tbody tr th {\n",
       "        vertical-align: top;\n",
       "    }\n",
       "\n",
       "    .dataframe thead th {\n",
       "        text-align: right;\n",
       "    }\n",
       "</style>\n",
       "<table border=\"1\" class=\"dataframe\">\n",
       "  <thead>\n",
       "    <tr style=\"text-align: right;\">\n",
       "      <th></th>\n",
       "      <th>h [mm]</th>\n",
       "      <th>b [mm]</th>\n",
       "      <th>t [mm]</th>\n",
       "      <th>Area [mm ^ 2]</th>\n",
       "      <th>Yc [mm]</th>\n",
       "      <th>Iz [mm ^ 4]</th>\n",
       "      <th>esfuerzo_superior [MPa]</th>\n",
       "      <th>esfuerzo_inferior [MPa]</th>\n",
       "    </tr>\n",
       "    <tr>\n",
       "      <th>perfil</th>\n",
       "      <th></th>\n",
       "      <th></th>\n",
       "      <th></th>\n",
       "      <th></th>\n",
       "      <th></th>\n",
       "      <th></th>\n",
       "      <th></th>\n",
       "      <th></th>\n",
       "    </tr>\n",
       "  </thead>\n",
       "  <tbody>\n",
       "    <tr>\n",
       "      <th>5</th>\n",
       "      <td>50</td>\n",
       "      <td>100</td>\n",
       "      <td>8.5</td>\n",
       "      <td>1202.75</td>\n",
       "      <td>38.417845</td>\n",
       "      <td>2.115530e+05</td>\n",
       "      <td>63.548869</td>\n",
       "      <td>-210.790693</td>\n",
       "    </tr>\n",
       "    <tr>\n",
       "      <th>6</th>\n",
       "      <td>55</td>\n",
       "      <td>115</td>\n",
       "      <td>9.0</td>\n",
       "      <td>1449.00</td>\n",
       "      <td>42.642857</td>\n",
       "      <td>3.036222e+05</td>\n",
       "      <td>47.241336</td>\n",
       "      <td>-163.023570</td>\n",
       "    </tr>\n",
       "    <tr>\n",
       "      <th>7</th>\n",
       "      <td>60</td>\n",
       "      <td>120</td>\n",
       "      <td>10.0</td>\n",
       "      <td>1700.00</td>\n",
       "      <td>46.176471</td>\n",
       "      <td>4.318137e+05</td>\n",
       "      <td>37.158664</td>\n",
       "      <td>-124.125751</td>\n",
       "    </tr>\n",
       "    <tr>\n",
       "      <th>8</th>\n",
       "      <td>70</td>\n",
       "      <td>140</td>\n",
       "      <td>11.5</td>\n",
       "      <td>2282.75</td>\n",
       "      <td>53.935139</td>\n",
       "      <td>7.908459e+05</td>\n",
       "      <td>23.578856</td>\n",
       "      <td>-79.162143</td>\n",
       "    </tr>\n",
       "    <tr>\n",
       "      <th>9</th>\n",
       "      <td>80</td>\n",
       "      <td>160</td>\n",
       "      <td>13.0</td>\n",
       "      <td>2951.00</td>\n",
       "      <td>61.693833</td>\n",
       "      <td>1.337393e+06</td>\n",
       "      <td>15.888246</td>\n",
       "      <td>-53.545168</td>\n",
       "    </tr>\n",
       "    <tr>\n",
       "      <th>10</th>\n",
       "      <td>90</td>\n",
       "      <td>180</td>\n",
       "      <td>15.0</td>\n",
       "      <td>3825.00</td>\n",
       "      <td>69.264706</td>\n",
       "      <td>2.186057e+06</td>\n",
       "      <td>11.009975</td>\n",
       "      <td>-36.778000</td>\n",
       "    </tr>\n",
       "  </tbody>\n",
       "</table>\n",
       "</div>"
      ],
      "text/plain": [
       "        h [mm]  b [mm]  t [mm]  Area [mm ^ 2]    Yc [mm]   Iz [mm ^ 4]  \\\n",
       "perfil                                                                   \n",
       "5           50     100     8.5        1202.75  38.417845  2.115530e+05   \n",
       "6           55     115     9.0        1449.00  42.642857  3.036222e+05   \n",
       "7           60     120    10.0        1700.00  46.176471  4.318137e+05   \n",
       "8           70     140    11.5        2282.75  53.935139  7.908459e+05   \n",
       "9           80     160    13.0        2951.00  61.693833  1.337393e+06   \n",
       "10          90     180    15.0        3825.00  69.264706  2.186057e+06   \n",
       "\n",
       "        esfuerzo_superior [MPa]  esfuerzo_inferior [MPa]  \n",
       "perfil                                                    \n",
       "5                     63.548869              -210.790693  \n",
       "6                     47.241336              -163.023570  \n",
       "7                     37.158664              -124.125751  \n",
       "8                     23.578856               -79.162143  \n",
       "9                     15.888246               -53.545168  \n",
       "10                    11.009975               -36.778000  "
      ]
     },
     "execution_count": 18,
     "metadata": {},
     "output_type": "execute_result"
    }
   ],
   "source": [
    "filtro = Resultado['esfuerzo_inferior [MPa]'] >= - 250\n",
    "Resultado[filtro]"
   ]
  },
  {
   "cell_type": "code",
   "execution_count": 19,
   "id": "7bd7c234",
   "metadata": {
    "scrolled": true
   },
   "outputs": [
    {
     "data": {
      "text/plain": [
       "perfil\n",
       "5     1202.75\n",
       "6     1449.00\n",
       "7     1700.00\n",
       "8     2282.75\n",
       "9     2951.00\n",
       "10    3825.00\n",
       "Name: Area [mm ^ 2], dtype: float64"
      ]
     },
     "execution_count": 19,
     "metadata": {},
     "output_type": "execute_result"
    }
   ],
   "source": [
    "Resultado.loc[filtro, 'Area [mm ^ 2]']"
   ]
  },
  {
   "cell_type": "code",
   "execution_count": 20,
   "id": "6200d4ef",
   "metadata": {},
   "outputs": [
    {
     "data": {
      "text/plain": [
       "1202.75"
      ]
     },
     "execution_count": 20,
     "metadata": {},
     "output_type": "execute_result"
    }
   ],
   "source": [
    "area_minima = Resultado.loc[filtro, 'Area [mm ^ 2]'].min()\n",
    "area_minima"
   ]
  },
  {
   "cell_type": "code",
   "execution_count": 21,
   "id": "df3fb2a7",
   "metadata": {},
   "outputs": [
    {
     "data": {
      "text/plain": [
       "5"
      ]
     },
     "execution_count": 21,
     "metadata": {},
     "output_type": "execute_result"
    }
   ],
   "source": [
    "indice = Resultado.loc[filtro, 'Area [mm ^ 2]'].idxmin()\n",
    "indice"
   ]
  },
  {
   "cell_type": "code",
   "execution_count": 22,
   "id": "569e4307",
   "metadata": {},
   "outputs": [
    {
     "data": {
      "text/html": [
       "<div>\n",
       "<style scoped>\n",
       "    .dataframe tbody tr th:only-of-type {\n",
       "        vertical-align: middle;\n",
       "    }\n",
       "\n",
       "    .dataframe tbody tr th {\n",
       "        vertical-align: top;\n",
       "    }\n",
       "\n",
       "    .dataframe thead th {\n",
       "        text-align: right;\n",
       "    }\n",
       "</style>\n",
       "<table border=\"1\" class=\"dataframe\">\n",
       "  <thead>\n",
       "    <tr style=\"text-align: right;\">\n",
       "      <th></th>\n",
       "      <th>h [mm]</th>\n",
       "      <th>b [mm]</th>\n",
       "      <th>t [mm]</th>\n",
       "    </tr>\n",
       "    <tr>\n",
       "      <th>perfil</th>\n",
       "      <th></th>\n",
       "      <th></th>\n",
       "      <th></th>\n",
       "    </tr>\n",
       "  </thead>\n",
       "  <tbody>\n",
       "    <tr>\n",
       "      <th>5</th>\n",
       "      <td>50</td>\n",
       "      <td>100</td>\n",
       "      <td>8.5</td>\n",
       "    </tr>\n",
       "  </tbody>\n",
       "</table>\n",
       "</div>"
      ],
      "text/plain": [
       "        h [mm]  b [mm]  t [mm]\n",
       "perfil                        \n",
       "5           50     100     8.5"
      ]
     },
     "execution_count": 22,
     "metadata": {},
     "output_type": "execute_result"
    }
   ],
   "source": [
    "perfil_optimo = perfiles.loc[[indice], :'t [mm]']\n",
    "perfil_optimo"
   ]
  },
  {
   "cell_type": "markdown",
   "id": "16ac4126",
   "metadata": {},
   "source": [
    "# Eleccion del perfil Optimo."
   ]
  },
  {
   "cell_type": "code",
   "execution_count": 28,
   "id": "f23237d0",
   "metadata": {},
   "outputs": [
    {
     "data": {
      "text/html": [
       "<div>\n",
       "<style scoped>\n",
       "    .dataframe tbody tr th:only-of-type {\n",
       "        vertical-align: middle;\n",
       "    }\n",
       "\n",
       "    .dataframe tbody tr th {\n",
       "        vertical-align: top;\n",
       "    }\n",
       "\n",
       "    .dataframe thead th {\n",
       "        text-align: right;\n",
       "    }\n",
       "</style>\n",
       "<table border=\"1\" class=\"dataframe\">\n",
       "  <thead>\n",
       "    <tr style=\"text-align: right;\">\n",
       "      <th></th>\n",
       "      <th>h [mm]</th>\n",
       "      <th>b [mm]</th>\n",
       "      <th>t [mm]</th>\n",
       "      <th>Area [mm ^ 2]</th>\n",
       "    </tr>\n",
       "    <tr>\n",
       "      <th>perfil</th>\n",
       "      <th></th>\n",
       "      <th></th>\n",
       "      <th></th>\n",
       "      <th></th>\n",
       "    </tr>\n",
       "  </thead>\n",
       "  <tbody>\n",
       "    <tr>\n",
       "      <th>5</th>\n",
       "      <td>50</td>\n",
       "      <td>100</td>\n",
       "      <td>8.5</td>\n",
       "      <td>1202.75</td>\n",
       "    </tr>\n",
       "  </tbody>\n",
       "</table>\n",
       "</div>"
      ],
      "text/plain": [
       "        h [mm]  b [mm]  t [mm]  Area [mm ^ 2]\n",
       "perfil                                       \n",
       "5           50     100     8.5        1202.75"
      ]
     },
     "execution_count": 28,
     "metadata": {},
     "output_type": "execute_result"
    }
   ],
   "source": [
    "Perfil_optimo = perfiles.loc[[indice], :'Area [mm ^ 2]']\n",
    "Perfil_optimo"
   ]
  },
  {
   "cell_type": "code",
   "execution_count": 31,
   "id": "a80785f9",
   "metadata": {},
   "outputs": [],
   "source": [
    "from openpyxl import load_workbook\n",
    "\n",
    "with pd.ExcelWriter('T2.xlsx', mode='a', if_sheet_exists='overlay', engine='openpyxl') as writer:  \n",
    "    book = load_workbook('T2.xlsx')\n",
    "    writer.book = book\n",
    "    writer.sheets = dict((ws.title, ws) for ws in book.worksheets)\n",
    "    Perfil_optimo.to_excel(writer, startrow=18, startcol=6, sheet_name='Perfiles', index=None)"
   ]
  },
  {
   "cell_type": "code",
   "execution_count": 33,
   "id": "9b494d98",
   "metadata": {},
   "outputs": [
    {
     "data": {
      "text/html": [
       "<div>\n",
       "<style scoped>\n",
       "    .dataframe tbody tr th:only-of-type {\n",
       "        vertical-align: middle;\n",
       "    }\n",
       "\n",
       "    .dataframe tbody tr th {\n",
       "        vertical-align: top;\n",
       "    }\n",
       "\n",
       "    .dataframe thead th {\n",
       "        text-align: right;\n",
       "    }\n",
       "</style>\n",
       "<table border=\"1\" class=\"dataframe\">\n",
       "  <thead>\n",
       "    <tr style=\"text-align: right;\">\n",
       "      <th></th>\n",
       "      <th>esfuerzo_superior [MPa]</th>\n",
       "      <th>esfuerzo_inferior [MPa]</th>\n",
       "    </tr>\n",
       "    <tr>\n",
       "      <th>perfil</th>\n",
       "      <th></th>\n",
       "      <th></th>\n",
       "    </tr>\n",
       "  </thead>\n",
       "  <tbody>\n",
       "    <tr>\n",
       "      <th>5</th>\n",
       "      <td>63.548869</td>\n",
       "      <td>-210.790693</td>\n",
       "    </tr>\n",
       "  </tbody>\n",
       "</table>\n",
       "</div>"
      ],
      "text/plain": [
       "        esfuerzo_superior [MPa]  esfuerzo_inferior [MPa]\n",
       "perfil                                                  \n",
       "5                     63.548869              -210.790693"
      ]
     },
     "execution_count": 33,
     "metadata": {},
     "output_type": "execute_result"
    }
   ],
   "source": [
    "Perfil_optimo = perfiles.loc[[indice], 'esfuerzo_superior [MPa]' :'esfuerzo_inferior [MPa]']\n",
    "Perfil_optimo"
   ]
  },
  {
   "cell_type": "code",
   "execution_count": 34,
   "id": "06f6d33d",
   "metadata": {},
   "outputs": [],
   "source": [
    "from openpyxl import load_workbook\n",
    "\n",
    "with pd.ExcelWriter('T2.xlsx', mode='a', if_sheet_exists='overlay', engine='openpyxl') as writer:  \n",
    "    book = load_workbook('T2.xlsx')\n",
    "    writer.book = book\n",
    "    writer.sheets = dict((ws.title, ws) for ws in book.worksheets)\n",
    "    Perfil_optimo.to_excel(writer, startrow=18, startcol=10, sheet_name='Perfiles', index=None)"
   ]
  },
  {
   "cell_type": "code",
   "execution_count": null,
   "id": "b10beccb",
   "metadata": {},
   "outputs": [],
   "source": []
  }
 ],
 "metadata": {
  "kernelspec": {
   "display_name": "Python 3 (ipykernel)",
   "language": "python",
   "name": "python3"
  },
  "language_info": {
   "codemirror_mode": {
    "name": "ipython",
    "version": 3
   },
   "file_extension": ".py",
   "mimetype": "text/x-python",
   "name": "python",
   "nbconvert_exporter": "python",
   "pygments_lexer": "ipython3",
   "version": "3.10.0"
  }
 },
 "nbformat": 4,
 "nbformat_minor": 5
}
